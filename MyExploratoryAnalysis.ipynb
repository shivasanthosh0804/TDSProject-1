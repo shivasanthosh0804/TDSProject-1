{
 "cells": [
  {
   "cell_type": "code",
   "execution_count": 1,
   "id": "0dbae454",
   "metadata": {},
   "outputs": [],
   "source": [
    "import pandas as pd\n",
    "import statsmodels.api as sm\n",
    "from collections import Counter\n",
    "users = pd.read_csv('users.csv')"
   ]
  },
  {
   "cell_type": "code",
   "execution_count": 2,
   "id": "69496706",
   "metadata": {},
   "outputs": [
    {
     "data": {
      "text/plain": [
       "'getify,benawad,steveklabnik,cloudflare,jbogard'"
      ]
     },
     "execution_count": 2,
     "metadata": {},
     "output_type": "execute_result"
    }
   ],
   "source": [
    "#Who are the top 5 users in Austin with the highest number of followers? List their login in order, comma-separated.\n",
    "top_5_users_by_followers = users[users['location'].str.contains('Austin', case=False)].nlargest(5, 'followers')\n",
    "top_5_logins_by_followers = ','.join(top_5_users_by_followers['login'])\n",
    "top_5_logins_by_followers"
   ]
  },
  {
   "cell_type": "code",
   "execution_count": 3,
   "id": "0a6da29a",
   "metadata": {},
   "outputs": [
    {
     "data": {
      "text/plain": [
       "'jnewland,joshknowles,hassox,jicksta,dan'"
      ]
     },
     "execution_count": 3,
     "metadata": {},
     "output_type": "execute_result"
    }
   ],
   "source": [
    "#Who are the 5 earliest registered GitHub users in Austin? List their login in ascending order of created_at, comma-separated.\n",
    "users['created_at'] = pd.to_datetime(users['created_at'])\n",
    "earliest_5_users = users[users['location'].str.contains('Austin', case=False)].nsmallest(5, 'created_at')\n",
    "earliest_5_logins = ','.join(earliest_5_users['login'])\n",
    "earliest_5_logins"
   ]
  },
  {
   "cell_type": "code",
   "execution_count": 4,
   "id": "9d8e2340",
   "metadata": {},
   "outputs": [
    {
     "data": {
      "text/plain": [
       "'mit,apache-2.0,other'"
      ]
     },
     "execution_count": 4,
     "metadata": {},
     "output_type": "execute_result"
    }
   ],
   "source": [
    "#What are the 3 most popular license among these users? Ignore missing licenses. List the license_name in order, comma-separated.\n",
    "repos = pd.read_csv('repositories.csv')\n",
    "popular_licenses = repos['license_name'].value_counts().nlargest(3).index.tolist()\n",
    "','.join(popular_licenses)"
   ]
  },
  {
   "cell_type": "code",
   "execution_count": 5,
   "id": "f19adce1",
   "metadata": {},
   "outputs": [
    {
     "data": {
      "text/plain": [
       "'GOOGLE'"
      ]
     },
     "execution_count": 5,
     "metadata": {},
     "output_type": "execute_result"
    }
   ],
   "source": [
    "#Which company do the majority of these developers work at?\n",
    "company_counts = users['company'].str.upper().str.strip('@').value_counts()\n",
    "most_common_company = company_counts.idxmax()\n",
    "most_common_company"
   ]
  },
  {
   "cell_type": "code",
   "execution_count": 6,
   "id": "b50c384f",
   "metadata": {},
   "outputs": [
    {
     "data": {
      "text/plain": [
       "'JavaScript'"
      ]
     },
     "execution_count": 6,
     "metadata": {},
     "output_type": "execute_result"
    }
   ],
   "source": [
    "#Which programming language is most popular among these users?\n",
    "most_popular_language = repos['language'].value_counts().idxmax()\n",
    "most_popular_language"
   ]
  },
  {
   "cell_type": "code",
   "execution_count": 7,
   "id": "601ce8a9",
   "metadata": {},
   "outputs": [
    {
     "data": {
      "text/plain": [
       "'HTML'"
      ]
     },
     "execution_count": 7,
     "metadata": {},
     "output_type": "execute_result"
    }
   ],
   "source": [
    "#Which programming language is the second most popular among users who joined after 2020?\n",
    "recent_users = users[users['created_at'] > '2020-01-01']\n",
    "recent_repos = repos[repos['login'].isin(recent_users['login'])]\n",
    "second_popular_language = recent_repos['language'].value_counts().nlargest(2).index[1]\n",
    "second_popular_language"
   ]
  },
  {
   "cell_type": "code",
   "execution_count": 8,
   "id": "7254c26e",
   "metadata": {},
   "outputs": [
    {
     "data": {
      "text/plain": [
       "'Fennel'"
      ]
     },
     "execution_count": 8,
     "metadata": {},
     "output_type": "execute_result"
    }
   ],
   "source": [
    "#Which language has the highest average number of stars per repository?\n",
    "avg_stars_per_language = repos.groupby('language')['stargazers_count'].mean().idxmax()\n",
    "avg_stars_per_language"
   ]
  },
  {
   "cell_type": "code",
   "execution_count": 9,
   "id": "62da4142",
   "metadata": {},
   "outputs": [
    {
     "data": {
      "text/plain": [
       "'getify,cloudflare,benawad,oracle,ContinuumIO'"
      ]
     },
     "execution_count": 9,
     "metadata": {},
     "output_type": "execute_result"
    }
   ],
   "source": [
    "#Let's define leader_strength as followers / (1 + following). Who are the top 5 in terms of leader_strength? List their login in order, comma-separated.\n",
    "users['leader_strength'] = users['followers'] / (1 + users['following'])\n",
    "top_5_leader_strength = users.nlargest(5, 'leader_strength')['login']\n",
    "','.join(top_5_leader_strength)"
   ]
  },
  {
   "cell_type": "code",
   "execution_count": 10,
   "id": "f3017c8b",
   "metadata": {},
   "outputs": [
    {
     "data": {
      "text/plain": [
       "0.151"
      ]
     },
     "execution_count": 10,
     "metadata": {},
     "output_type": "execute_result"
    }
   ],
   "source": [
    "#What is the correlation between the number of followers and the number of public repositories among users in Austin?\n",
    "correlation_followers_repos = users['followers'].corr(users['public_repos'])\n",
    "round(correlation_followers_repos, 3)\n"
   ]
  },
  {
   "cell_type": "code",
   "execution_count": 11,
   "id": "6ace13a7",
   "metadata": {},
   "outputs": [
    {
     "data": {
      "text/plain": [
       "4.104"
      ]
     },
     "execution_count": 11,
     "metadata": {},
     "output_type": "execute_result"
    }
   ],
   "source": [
    "# Does creating more repos help users get more followers? Using regression, estimate how many additional followers a user gets per additional public repository.\n",
    "#Regression slope of followers on repos \n",
    "X = users['public_repos']\n",
    "y = users['followers']\n",
    "X = sm.add_constant(X)\n",
    "model = sm.OLS(y, X).fit()\n",
    "regression_slope_followers_repos = model.params['public_repos']\n",
    "round(regression_slope_followers_repos, 3)"
   ]
  },
  {
   "cell_type": "code",
   "execution_count": 12,
   "id": "c7e1e28c",
   "metadata": {},
   "outputs": [
    {
     "data": {
      "text/plain": [
       "0.274"
      ]
     },
     "execution_count": 12,
     "metadata": {},
     "output_type": "execute_result"
    }
   ],
   "source": [
    "#Do people typically enable projects and wikis together? What is the correlation between a repo having projects enabled and having wiki enabled?\n",
    "#Correlation between projects and wiki enabled \n",
    "projects_wiki_correlation = repos['has_projects'].corr(repos['has_wiki'])\n",
    "round(projects_wiki_correlation, 3)"
   ]
  },
  {
   "cell_type": "code",
   "execution_count": 13,
   "id": "e7253b2c",
   "metadata": {},
   "outputs": [
    {
     "data": {
      "text/plain": [
       "109.041"
      ]
     },
     "execution_count": 13,
     "metadata": {},
     "output_type": "execute_result"
    }
   ],
   "source": [
    "#Do hireable users follow more people than those who are not hireable?\n",
    "hireable_following_diff = users[users['hireable'] == True]['following'].mean() - users[users['hireable'] == False]['following'].mean()\n",
    "round(hireable_following_diff, 3)"
   ]
  },
  {
   "cell_type": "code",
   "execution_count": 14,
   "id": "dccc04fd",
   "metadata": {},
   "outputs": [
    {
     "data": {
      "text/plain": [
       "7.785"
      ]
     },
     "execution_count": 14,
     "metadata": {},
     "output_type": "execute_result"
    }
   ],
   "source": [
    "#13. Some developers write long bios. Does that help them get more followers? What's the impact of the length of their bio (in Unicode words, split by whitespace) with followers? (Ignore people without bios)\n",
    "users['bio_word_count'] = users['bio'].fillna('').str.split().apply(len)\n",
    "X_bio = users[users['bio_word_count'] > 0]['bio_word_count']\n",
    "y_bio = users[users['bio_word_count'] > 0]['followers']\n",
    "X_bio = sm.add_constant(X_bio)\n",
    "bio_followers_model = sm.OLS(y_bio, X_bio).fit()\n",
    "bio_followers_slope = bio_followers_model.params['bio_word_count']\n",
    "round(bio_followers_slope, 3)"
   ]
  },
  {
   "cell_type": "code",
   "execution_count": 15,
   "id": "2cad6f57",
   "metadata": {},
   "outputs": [
    {
     "data": {
      "text/plain": [
       "'FellowTraveler,realityexpander,OR13,PaulBratslavsky,skeptycal'"
      ]
     },
     "execution_count": 15,
     "metadata": {},
     "output_type": "execute_result"
    }
   ],
   "source": [
    "# Who created the most repositories on weekends (UTC)? List the top 5 users' login in order, comma-separated\n",
    "repos['created_at'] = pd.to_datetime(repos['created_at'])\n",
    "repos['is_weekend'] = repos['created_at'].dt.weekday >= 5\n",
    "weekend_repos = repos[repos['is_weekend']].groupby('login').size().nlargest(5).index\n",
    "','.join(weekend_repos)"
   ]
  },
  {
   "cell_type": "code",
   "execution_count": 16,
   "id": "cecbe37a",
   "metadata": {},
   "outputs": [
    {
     "data": {
      "text/plain": [
       "0.022"
      ]
     },
     "execution_count": 16,
     "metadata": {},
     "output_type": "execute_result"
    }
   ],
   "source": [
    "#Do people who are hireable share their email addresses more often?\n",
    "email_share_hireable = users[users['hireable'] == True]['email'].notna().mean()\n",
    "email_share_not_hireable = users[users['hireable'] == False]['email'].notna().mean()\n",
    "email_share_diff = round(email_share_hireable - email_share_not_hireable, 3)\n",
    "email_share_diff"
   ]
  },
  {
   "cell_type": "code",
   "execution_count": 17,
   "id": "406b9147",
   "metadata": {},
   "outputs": [
    {
     "name": "stdout",
     "output_type": "stream",
     "text": [
      "Labs,Moore,Smith\n"
     ]
    }
   ],
   "source": [
    "#Let's assume that the last word in a user's name is their surname (ignore missing names, trim and split by whitespace.) What's the most common surname? (If there's a tie, list them all, comma-separated, alphabetically)\n",
    "surname_counter = Counter()\n",
    "for name in users['name'].fillna('').str.strip():\n",
    "    if name:\n",
    "        surname = name.split()[-1]\n",
    "        surname_counter[surname] += 1\n",
    "if surname_counter:\n",
    "    max_count = max(surname_counter.values())\n",
    "    most_common_surnames = [surname for surname, count in surname_counter.items() if count == max_count]\n",
    "    most_common_surnames.sort()\n",
    "    print(','.join(most_common_surnames))\n",
    "else:\n",
    "    print(\"No names found.\")"
   ]
  },
  {
   "cell_type": "code",
   "execution_count": 20,
   "id": "48cc7290",
   "metadata": {},
   "outputs": [
    {
     "data": {
      "text/plain": [
       "'Thankyou'"
      ]
     },
     "execution_count": 20,
     "metadata": {},
     "output_type": "execute_result"
    }
   ],
   "source": [
    "\"\"\"Thankyou\"\"\""
   ]
  },
  {
   "cell_type": "code",
   "execution_count": null,
   "id": "933faa19",
   "metadata": {},
   "outputs": [],
   "source": []
  }
 ],
 "metadata": {
  "kernelspec": {
   "display_name": "Python 3 (ipykernel)",
   "language": "python",
   "name": "python3"
  },
  "language_info": {
   "codemirror_mode": {
    "name": "ipython",
    "version": 3
   },
   "file_extension": ".py",
   "mimetype": "text/x-python",
   "name": "python",
   "nbconvert_exporter": "python",
   "pygments_lexer": "ipython3",
   "version": "3.11.2"
  }
 },
 "nbformat": 4,
 "nbformat_minor": 5
}
