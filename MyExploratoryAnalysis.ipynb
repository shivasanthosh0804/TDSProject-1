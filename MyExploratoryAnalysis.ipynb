{
 "cells": [
  {
   "cell_type": "code",
   "execution_count": null,
   "id": "6f3c1b99",
   "metadata": {},
   "outputs": [],
   "source": [
    "\"\"\"My analysis of GitHub Users of Austin,Texas\"\"\""
   ]
  },
  {
   "cell_type": "code",
   "execution_count": 2,
   "id": "0dbae454",
   "metadata": {},
   "outputs": [],
   "source": [
    "import pandas as pd\n",
    "import statsmodels.api as sm\n",
    "from collections import Counter\n",
    "users=pd.read_csv('users.csv')"
   ]
  },
  {
   "cell_type": "code",
   "execution_count": 10,
   "id": "69496706",
   "metadata": {},
   "outputs": [
    {
     "data": {
      "text/plain": [
       "'getify,benawad,steveklabnik,cloudflare,jbogard'"
      ]
     },
     "execution_count": 10,
     "metadata": {},
     "output_type": "execute_result"
    }
   ],
   "source": [
    "#top 5 users by followers\n",
    "aus=users[users['location'].str.contains('Austin', case=False)]\n",
    "top=aus.nlargest(5, 'followers')\n",
    "ans=','.join(top['login'])\n",
    "ans"
   ]
  },
  {
   "cell_type": "code",
   "execution_count": 9,
   "id": "0a6da29a",
   "metadata": {},
   "outputs": [
    {
     "data": {
      "text/plain": [
       "'jnewland,joshknowles,hassox,jicksta,dan'"
      ]
     },
     "execution_count": 9,
     "metadata": {},
     "output_type": "execute_result"
    }
   ],
   "source": [
    "#earliest 5 registered users\n",
    "users['created_at']=pd.to_datetime(users['created_at'])\n",
    "aus=users[users['location'].str.contains('Austin', case=False)]\n",
    "old=aus.nsmallest(5, 'created_at')\n",
    "ans=','.join(old['login'])\n",
    "ans"
   ]
  },
  {
   "cell_type": "code",
   "execution_count": 4,
   "id": "9d8e2340",
   "metadata": {},
   "outputs": [
    {
     "data": {
      "text/plain": [
       "'mit,apache-2.0,other'"
      ]
     },
     "execution_count": 4,
     "metadata": {},
     "output_type": "execute_result"
    }
   ],
   "source": [
    "#top 3 most popular licenses\n",
    "repo=pd.read_csv('repositories.csv')\n",
    "lic=repo['license_name'].value_counts()\n",
    "top=lic.nlargest(3).index.tolist()\n",
    "ans=','.join(top)\n",
    "ans"
   ]
  },
  {
   "cell_type": "code",
   "execution_count": 5,
   "id": "f19adce1",
   "metadata": {},
   "outputs": [
    {
     "data": {
      "text/plain": [
       "'GOOGLE'"
      ]
     },
     "execution_count": 5,
     "metadata": {},
     "output_type": "execute_result"
    }
   ],
   "source": [
    "#most common company\n",
    "emp=users['company'].str.upper().str.strip('@') \n",
    "top=emp.value_counts()\n",
    "org=top.idxmax()\n",
    "org"
   ]
  },
  {
   "cell_type": "code",
   "execution_count": 6,
   "id": "b50c384f",
   "metadata": {},
   "outputs": [
    {
     "data": {
      "text/plain": [
       "'JavaScript'"
      ]
     },
     "execution_count": 6,
     "metadata": {},
     "output_type": "execute_result"
    }
   ],
   "source": [
    "#most popular programming language\n",
    "lng=repo['language'].value_counts()\n",
    "top=lng.idxmax()\n",
    "top"
   ]
  },
  {
   "cell_type": "code",
   "execution_count": 7,
   "id": "601ce8a9",
   "metadata": {},
   "outputs": [
    {
     "data": {
      "text/plain": [
       "'HTML'"
      ]
     },
     "execution_count": 7,
     "metadata": {},
     "output_type": "execute_result"
    }
   ],
   "source": [
    "#second most popular language post 2020\n",
    "recentusers=users[users['created_at']>'2020-01-01']\n",
    "recentrepos=repo[repo['login'].isin(recentusers['login'])]\n",
    "secondlang=recentrepos['language'].value_counts().nlargest(2).index[1]\n",
    "secondlang"
   ]
  },
  {
   "cell_type": "code",
   "execution_count": 8,
   "id": "7254c26e",
   "metadata": {},
   "outputs": [
    {
     "data": {
      "text/plain": [
       "'Fennel'"
      ]
     },
     "execution_count": 8,
     "metadata": {},
     "output_type": "execute_result"
    }
   ],
   "source": [
    "#language with highest average stars per repository\n",
    "avg=repo.groupby('language')['stargazers_count'].mean()\n",
    "top=avg.idxmax()\n",
    "top"
   ]
  },
  {
   "cell_type": "code",
   "execution_count": 9,
   "id": "62da4142",
   "metadata": {},
   "outputs": [
    {
     "data": {
      "text/plain": [
       "'getify,cloudflare,benawad,oracle,ContinuumIO'"
      ]
     },
     "execution_count": 9,
     "metadata": {},
     "output_type": "execute_result"
    }
   ],
   "source": [
    "#top 5 users by leader strength\n",
    "ldr=users['followers']/(1+users['following'])\n",
    "users['ldr']=ldr\n",
    "top=users.nlargest(5, 'ldr')['login']\n",
    "ans=','.join(top)\n",
    "ans"
   ]
  },
  {
   "cell_type": "code",
   "execution_count": 10,
   "id": "f3017c8b",
   "metadata": {},
   "outputs": [
    {
     "data": {
      "text/plain": [
       "0.151"
      ]
     },
     "execution_count": 10,
     "metadata": {},
     "output_type": "execute_result"
    }
   ],
   "source": [
    "#correlation between followers and repositories\n",
    "atx=users[users['location'].str.contains('Austin', case=False)]\n",
    "cor=atx['followers'].corr(atx['public_repos'])\n",
    "ans=round(cor, 3)\n",
    "ans"
   ]
  },
  {
   "cell_type": "code",
   "execution_count": 11,
   "id": "6ace13a7",
   "metadata": {},
   "outputs": [
    {
     "data": {
      "text/plain": [
       "4.104"
      ]
     },
     "execution_count": 11,
     "metadata": {},
     "output_type": "execute_result"
    }
   ],
   "source": [
    "#impact of repositories on followers\n",
    "x=users['public_repos']\n",
    "y=users['followers']\n",
    "x=sm.add_constant(x)\n",
    "mod=sm.OLS(y, x).fit()\n",
    "bet=mod.params['public_repos']\n",
    "ans=round(bet, 3)\n",
    "ans"
   ]
  },
  {
   "cell_type": "code",
   "execution_count": 12,
   "id": "c7e1e28c",
   "metadata": {},
   "outputs": [
    {
     "data": {
      "text/plain": [
       "0.274"
      ]
     },
     "execution_count": 12,
     "metadata": {},
     "output_type": "execute_result"
    }
   ],
   "source": [
    "#correlation between projects and wikis\n",
    "projwcorr= repo['has_projects'].corr(repo['has_wiki'])\n",
    "round(projwcorr, 3)"
   ]
  },
  {
   "cell_type": "code",
   "execution_count": 13,
   "id": "e7253b2c",
   "metadata": {},
   "outputs": [
    {
     "data": {
      "text/plain": [
       "109.041"
      ]
     },
     "execution_count": 13,
     "metadata": {},
     "output_type": "execute_result"
    }
   ],
   "source": [
    "#hireable users and following\n",
    "hire=users[users['hireable']==True]['following'].mean()-users[users['hireable']==False]['following'].mean()\n",
    "round(hire, 3)"
   ]
  },
  {
   "cell_type": "code",
   "execution_count": 14,
   "id": "dccc04fd",
   "metadata": {},
   "outputs": [
    {
     "data": {
      "text/plain": [
       "7.785"
      ]
     },
     "execution_count": 14,
     "metadata": {},
     "output_type": "execute_result"
    }
   ],
   "source": [
    "#impact of bio length on followers\n",
    "users['bw']=users['bio'].fillna('').str.split().apply(len)\n",
    "bx=users[users['bw']>0]['bw']\n",
    "by=users[users['bw']>0]['followers']\n",
    "bx=sm.add_constant(bx)\n",
    "bfmodel=sm.OLS(by, bx).fit()\n",
    "bfslope= bfmodel.params['bw']\n",
    "round(bfslope, 3)"
   ]
  },
  {
   "cell_type": "code",
   "execution_count": 15,
   "id": "2cad6f57",
   "metadata": {},
   "outputs": [
    {
     "data": {
      "text/plain": [
       "'FellowTraveler,realityexpander,OR13,PaulBratslavsky,skeptycal'"
      ]
     },
     "execution_count": 15,
     "metadata": {},
     "output_type": "execute_result"
    }
   ],
   "source": [
    "#most prolific weekend developers\n",
    "repo['created_at']=pd.to_datetime(repo['created_at'])\n",
    "repo['is_weekend']=repo['created_at'].dt.weekday>=5\n",
    "weekndrepos = repo[repo['is_weekend']].groupby('login').size().nlargest(5).index\n",
    "','.join(weekndrepos)"
   ]
  },
  {
   "cell_type": "code",
   "execution_count": 16,
   "id": "cecbe37a",
   "metadata": {},
   "outputs": [
    {
     "data": {
      "text/plain": [
       "0.022"
      ]
     },
     "execution_count": 16,
     "metadata": {},
     "output_type": "execute_result"
    }
   ],
   "source": [
    "#email sharing and hireability\n",
    "emailsharehireable=users[users['hireable']==True]['email'].notna().mean()\n",
    "emailsharenothireable=users[users['hireable'] == False]['email'].notna().mean()\n",
    "emailsharediff=round(emailsharehireable - emailsharenothireable, 3)\n",
    "emailsharediff"
   ]
  },
  {
   "cell_type": "code",
   "execution_count": 17,
   "id": "406b9147",
   "metadata": {},
   "outputs": [
    {
     "name": "stdout",
     "output_type": "stream",
     "text": [
      "Labs,Moore,Smith\n"
     ]
    }
   ],
   "source": [
    "#most common surname\n",
    "snct=Counter()\n",
    "for nm in users['name'].fillna('').str.strip():\n",
    "    if nm:\n",
    "        sn=nm.split()[-1]\n",
    "        snct[sn]+=1\n",
    "if snct:\n",
    "    mxct=max(snct.values())\n",
    "    cmnsns=[sn for sn, ct in snct.items() if ct==mxct]\n",
    "    cmnsns.sort()\n",
    "    print(','.join(cmnsns))\n",
    "else:\n",
    "    print(\"No names found.\")"
   ]
  },
  {
   "cell_type": "code",
   "execution_count": 18,
   "id": "48cc7290",
   "metadata": {},
   "outputs": [
    {
     "data": {
      "text/plain": [
       "'Thankyou'"
      ]
     },
     "execution_count": 18,
     "metadata": {},
     "output_type": "execute_result"
    }
   ],
   "source": [
    "\"\"\"Thankyou\"\"\""
   ]
  },
  {
   "cell_type": "code",
   "execution_count": null,
   "id": "933faa19",
   "metadata": {},
   "outputs": [],
   "source": []
  }
 ],
 "metadata": {
  "kernelspec": {
   "display_name": "Python 3 (ipykernel)",
   "language": "python",
   "name": "python3"
  },
  "language_info": {
   "codemirror_mode": {
    "name": "ipython",
    "version": 3
   },
   "file_extension": ".py",
   "mimetype": "text/x-python",
   "name": "python",
   "nbconvert_exporter": "python",
   "pygments_lexer": "ipython3",
   "version": "3.11.2"
  }
 },
 "nbformat": 4,
 "nbformat_minor": 5
}
