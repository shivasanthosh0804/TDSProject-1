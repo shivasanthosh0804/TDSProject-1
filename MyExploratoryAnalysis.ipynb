{
 "cells": [
  {
   "cell_type": "code",
   "execution_count": 1,
   "id": "0dbae454",
   "metadata": {},
   "outputs": [
    {
     "data": {
      "text/plain": [
       "'getify,benawad,steveklabnik,cloudflare,jbogard'"
      ]
     },
     "execution_count": 1,
     "metadata": {},
     "output_type": "execute_result"
    }
   ],
   "source": [
    "import pandas as pd\n",
    "import statsmodels.api as sm\n",
    "from collections import Counter\n",
    "users = pd.read_csv('users.csv')\n",
    "top_5_users_by_followers = users[users['location'].str.contains('Austin', case=False)].nlargest(5, 'followers')\n",
    "top_5_logins_by_followers = ','.join(top_5_users_by_followers['login'])\n",
    "top_5_logins_by_followers"
   ]
  },
  {
   "cell_type": "code",
   "execution_count": 2,
   "id": "0a6da29a",
   "metadata": {},
   "outputs": [
    {
     "data": {
      "text/plain": [
       "'jnewland,joshknowles,hassox,jicksta,dan'"
      ]
     },
     "execution_count": 2,
     "metadata": {},
     "output_type": "execute_result"
    }
   ],
   "source": [
    "users['created_at'] = pd.to_datetime(users['created_at'])\n",
    "earliest_5_users = users[users['location'].str.contains('Austin', case=False)].nsmallest(5, 'created_at')\n",
    "earliest_5_logins = ','.join(earliest_5_users['login'])\n",
    "earliest_5_logins"
   ]
  },
  {
   "cell_type": "code",
   "execution_count": 3,
   "id": "9d8e2340",
   "metadata": {},
   "outputs": [
    {
     "data": {
      "text/plain": [
       "'mit,apache-2.0,other'"
      ]
     },
     "execution_count": 3,
     "metadata": {},
     "output_type": "execute_result"
    }
   ],
   "source": [
    "repos = pd.read_csv('repositories.csv')\n",
    "popular_licenses = repos['license_name'].value_counts().nlargest(3).index.tolist()\n",
    "','.join(popular_licenses)"
   ]
  },
  {
   "cell_type": "code",
   "execution_count": 4,
   "id": "f19adce1",
   "metadata": {},
   "outputs": [
    {
     "data": {
      "text/plain": [
       "'GOOGLE'"
      ]
     },
     "execution_count": 4,
     "metadata": {},
     "output_type": "execute_result"
    }
   ],
   "source": [
    "company_counts = users['company'].str.upper().str.strip('@').value_counts()\n",
    "most_common_company = company_counts.idxmax()\n",
    "most_common_company"
   ]
  },
  {
   "cell_type": "code",
   "execution_count": 5,
   "id": "b50c384f",
   "metadata": {},
   "outputs": [
    {
     "data": {
      "text/plain": [
       "'JavaScript'"
      ]
     },
     "execution_count": 5,
     "metadata": {},
     "output_type": "execute_result"
    }
   ],
   "source": [
    "most_popular_language = repos['language'].value_counts().idxmax()\n",
    "most_popular_language"
   ]
  },
  {
   "cell_type": "code",
   "execution_count": 6,
   "id": "601ce8a9",
   "metadata": {},
   "outputs": [
    {
     "data": {
      "text/plain": [
       "'HTML'"
      ]
     },
     "execution_count": 6,
     "metadata": {},
     "output_type": "execute_result"
    }
   ],
   "source": [
    "recent_users = users[users['created_at'] > '2020-01-01']\n",
    "recent_repos = repos[repos['login'].isin(recent_users['login'])]\n",
    "second_popular_language = recent_repos['language'].value_counts().nlargest(2).index[1]\n",
    "second_popular_language"
   ]
  },
  {
   "cell_type": "code",
   "execution_count": 7,
   "id": "7254c26e",
   "metadata": {},
   "outputs": [
    {
     "data": {
      "text/plain": [
       "'Fennel'"
      ]
     },
     "execution_count": 7,
     "metadata": {},
     "output_type": "execute_result"
    }
   ],
   "source": [
    "avg_stars_per_language = repos.groupby('language')['stargazers_count'].mean().idxmax()\n",
    "avg_stars_per_language"
   ]
  },
  {
   "cell_type": "code",
   "execution_count": 8,
   "id": "62da4142",
   "metadata": {},
   "outputs": [
    {
     "data": {
      "text/plain": [
       "'getify,cloudflare,benawad,oracle,ContinuumIO'"
      ]
     },
     "execution_count": 8,
     "metadata": {},
     "output_type": "execute_result"
    }
   ],
   "source": [
    "users['leader_strength'] = users['followers'] / (1 + users['following'])\n",
    "top_5_leader_strength = users.nlargest(5, 'leader_strength')['login']\n",
    "','.join(top_5_leader_strength)"
   ]
  },
  {
   "cell_type": "code",
   "execution_count": 9,
   "id": "f3017c8b",
   "metadata": {},
   "outputs": [
    {
     "data": {
      "text/plain": [
       "0.151"
      ]
     },
     "execution_count": 9,
     "metadata": {},
     "output_type": "execute_result"
    }
   ],
   "source": [
    "correlation_followers_repos = users['followers'].corr(users['public_repos'])\n",
    "round(correlation_followers_repos, 3)\n"
   ]
  },
  {
   "cell_type": "code",
   "execution_count": 10,
   "id": "6ace13a7",
   "metadata": {},
   "outputs": [
    {
     "data": {
      "text/plain": [
       "4.104"
      ]
     },
     "execution_count": 10,
     "metadata": {},
     "output_type": "execute_result"
    }
   ],
   "source": [
    "X = users['public_repos']\n",
    "y = users['followers']\n",
    "X = sm.add_constant(X)\n",
    "model = sm.OLS(y, X).fit()\n",
    "regression_slope_followers_repos = model.params['public_repos']\n",
    "round(regression_slope_followers_repos, 3)"
   ]
  },
  {
   "cell_type": "code",
   "execution_count": 11,
   "id": "c7e1e28c",
   "metadata": {},
   "outputs": [
    {
     "data": {
      "text/plain": [
       "0.274"
      ]
     },
     "execution_count": 11,
     "metadata": {},
     "output_type": "execute_result"
    }
   ],
   "source": [
    "projects_wiki_correlation = repos['has_projects'].corr(repos['has_wiki'])\n",
    "round(projects_wiki_correlation, 3)"
   ]
  },
  {
   "cell_type": "code",
   "execution_count": 12,
   "id": "e7253b2c",
   "metadata": {},
   "outputs": [
    {
     "data": {
      "text/plain": [
       "109.041"
      ]
     },
     "execution_count": 12,
     "metadata": {},
     "output_type": "execute_result"
    }
   ],
   "source": [
    "hireable_following_diff = users[users['hireable'] == True]['following'].mean() - users[users['hireable'] == False]['following'].mean()\n",
    "round(hireable_following_diff, 3)"
   ]
  },
  {
   "cell_type": "code",
   "execution_count": 13,
   "id": "dccc04fd",
   "metadata": {},
   "outputs": [
    {
     "data": {
      "text/plain": [
       "7.785"
      ]
     },
     "execution_count": 13,
     "metadata": {},
     "output_type": "execute_result"
    }
   ],
   "source": [
    "users['bio_word_count'] = users['bio'].fillna('').str.split().apply(len)\n",
    "X_bio = users[users['bio_word_count'] > 0]['bio_word_count']\n",
    "y_bio = users[users['bio_word_count'] > 0]['followers']\n",
    "X_bio = sm.add_constant(X_bio)\n",
    "bio_followers_model = sm.OLS(y_bio, X_bio).fit()\n",
    "bio_followers_slope = bio_followers_model.params['bio_word_count']\n",
    "round(bio_followers_slope, 3)"
   ]
  },
  {
   "cell_type": "code",
   "execution_count": 14,
   "id": "2cad6f57",
   "metadata": {},
   "outputs": [
    {
     "data": {
      "text/plain": [
       "'FellowTraveler,realityexpander,OR13,PaulBratslavsky,skeptycal'"
      ]
     },
     "execution_count": 14,
     "metadata": {},
     "output_type": "execute_result"
    }
   ],
   "source": [
    "repos['created_at'] = pd.to_datetime(repos['created_at'])\n",
    "repos['is_weekend'] = repos['created_at'].dt.weekday >= 5\n",
    "weekend_repos = repos[repos['is_weekend']].groupby('login').size().nlargest(5).index\n",
    "','.join(weekend_repos)"
   ]
  },
  {
   "cell_type": "code",
   "execution_count": 15,
   "id": "cecbe37a",
   "metadata": {},
   "outputs": [
    {
     "data": {
      "text/plain": [
       "0.022"
      ]
     },
     "execution_count": 15,
     "metadata": {},
     "output_type": "execute_result"
    }
   ],
   "source": [
    "email_share_hireable = users[users['hireable'] == True]['email'].notna().mean()\n",
    "email_share_not_hireable = users[users['hireable'] == False]['email'].notna().mean()\n",
    "email_share_diff = round(email_share_hireable - email_share_not_hireable, 3)\n",
    "email_share_diff"
   ]
  },
  {
   "cell_type": "code",
   "execution_count": 16,
   "id": "406b9147",
   "metadata": {},
   "outputs": [
    {
     "name": "stdout",
     "output_type": "stream",
     "text": [
      "Labs,Moore,Smith\n"
     ]
    }
   ],
   "source": [
    "surname_counter = Counter()\n",
    "for name in users['name'].fillna('').str.strip():\n",
    "    if name:\n",
    "        surname = name.split()[-1]\n",
    "        surname_counter[surname] += 1\n",
    "if surname_counter:\n",
    "    max_count = max(surname_counter.values())\n",
    "    most_common_surnames = [surname for surname, count in surname_counter.items() if count == max_count]\n",
    "    most_common_surnames.sort()\n",
    "    print(','.join(most_common_surnames))\n",
    "else:\n",
    "    print(\"No names found.\")"
   ]
  },
  {
   "cell_type": "code",
   "execution_count": null,
   "id": "b4d49845",
   "metadata": {},
   "outputs": [],
   "source": []
  },
  {
   "cell_type": "code",
   "execution_count": null,
   "id": "e260ecbe",
   "metadata": {},
   "outputs": [],
   "source": []
  }
 ],
 "metadata": {
  "kernelspec": {
   "display_name": "Python 3 (ipykernel)",
   "language": "python",
   "name": "python3"
  },
  "language_info": {
   "codemirror_mode": {
    "name": "ipython",
    "version": 3
   },
   "file_extension": ".py",
   "mimetype": "text/x-python",
   "name": "python",
   "nbconvert_exporter": "python",
   "pygments_lexer": "ipython3",
   "version": "3.11.2"
  }
 },
 "nbformat": 4,
 "nbformat_minor": 5
}
